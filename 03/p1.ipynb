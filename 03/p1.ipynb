{
 "cells": [
  {
   "cell_type": "markdown",
   "metadata": {},
   "source": [
    "## Задом наперед"
   ]
  },
  {
   "cell_type": "code",
   "execution_count": null,
   "metadata": {},
   "outputs": [],
   "source": [
    "f = open('input.txt')\n",
    "lines = f.readlines()\n",
    "for line in lines:\n",
    "  words = line.split()\n",
    "  reversed_words=[word[::-1] for word in words]\n",
    "  print(' '.join(reversed_words))\n",
    "f.close()"
   ]
  },
  {
   "cell_type": "markdown",
   "metadata": {},
   "source": [
    "## Буква \"ё\""
   ]
  },
  {
   "cell_type": "markdown",
   "metadata": {},
   "source": [
    "f = open('input.txt')\n",
    "lines = f.readlines()\n",
    "filtered_lines = filter(lambda line: 'ё' in line, lines)\n",
    "result = [line.strip() for line in filtered_lines if line.strip()]\n",
    "\n",
    "for line in result:\n",
    "    print(line)\n",
    "f.close()"
   ]
  },
  {
   "cell_type": "markdown",
   "metadata": {},
   "source": [
    "## Убрать половину"
   ]
  },
  {
   "cell_type": "code",
   "execution_count": null,
   "metadata": {},
   "outputs": [],
   "source": [
    "def remove_every_second_word(line):\n",
    "    words = line.split()\n",
    "    filtered_words = [words[i] for i in range(len(words)) if i % 2 == 0]\n",
    "    return ' '.join(filtered_words)\n",
    "\n",
    "f = open('input.txt')\n",
    "lines = f.readlines()\n",
    "filtered_lines = map(remove_every_second_word, lines)\n",
    "for line in filtered_lines:\n",
    "    print(line)\n",
    "f.close()"
   ]
  },
  {
   "cell_type": "markdown",
   "metadata": {},
   "source": [
    "## Дни рождения"
   ]
  },
  {
   "cell_type": "code",
   "execution_count": null,
   "metadata": {},
   "outputs": [],
   "source": [
    "file = open('input.txt')\n",
    "N = int(file.readline())\n",
    "names = [file.readline().strip() for _ in range(N)]\n",
    "birthdays = [file.readline().strip() for _ in range(N)]\n",
    "\n",
    "with open('output.txt', 'w') as out:\n",
    "  for name, birthday in zip(names, birthdays):\n",
    "    out.write(name + '\\t' + birthday + '\\n')\n",
    "out.close()\n",
    "file.close()"
   ]
  },
  {
   "cell_type": "markdown",
   "metadata": {},
   "source": [
    "## Комбинации дежурных"
   ]
  },
  {
   "cell_type": "code",
   "execution_count": null,
   "metadata": {},
   "outputs": [],
   "source": [
    "import itertools\n",
    "\n",
    "f = open('studygroup.txt')\n",
    "lines = f.readlines()\n",
    "for line in lines:\n",
    "  name = line.split()\n",
    "  combinations = list(itertools.combinations(name, 3))\n",
    "  for combination in combinations:\n",
    "    output = '{}: {} {}: {} {}: {}'.format(1, combination[0], 2, combination[1], 3, combination[2])\n",
    "    print(output)\n",
    "f.close()"
   ]
  }
 ],
 "metadata": {
  "language_info": {
   "name": "python"
  }
 },
 "nbformat": 4,
 "nbformat_minor": 2
}
