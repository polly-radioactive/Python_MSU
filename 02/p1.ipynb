{
 "cells": [
  {
   "cell_type": "markdown",
   "metadata": {},
   "source": [
    "## Количество символов в строке"
   ]
  },
  {
   "cell_type": "code",
   "execution_count": null,
   "metadata": {},
   "outputs": [],
   "source": [
    "s = input()\n",
    "count = len(s)\n",
    "print(count)"
   ]
  },
  {
   "cell_type": "markdown",
   "metadata": {},
   "source": [
    "## Строка в обратном порядке"
   ]
  },
  {
   "cell_type": "code",
   "execution_count": null,
   "metadata": {},
   "outputs": [],
   "source": [
    "s = input()\n",
    "reversed_s = s[::-1]\n",
    "print(reversed_s)"
   ]
  },
  {
   "cell_type": "markdown",
   "metadata": {},
   "source": [
    "## Какой логин?"
   ]
  },
  {
   "cell_type": "code",
   "execution_count": null,
   "metadata": {},
   "outputs": [],
   "source": [
    "email = input()\n",
    "login = email.split('@')[0]\n",
    "print(login)"
   ]
  },
  {
   "cell_type": "markdown",
   "metadata": {},
   "source": [
    "## Подстрока в двойных кавычках"
   ]
  },
  {
   "cell_type": "code",
   "execution_count": null,
   "metadata": {},
   "outputs": [],
   "source": [
    "import re\n",
    "\n",
    "s = input()\n",
    "pattern = r'\"(.*?)\"'\n",
    "result = re.findall(pattern, s)\n",
    "print(result[0])"
   ]
  },
  {
   "cell_type": "markdown",
   "metadata": {},
   "source": [
    "## Поменялись!"
   ]
  },
  {
   "cell_type": "code",
   "execution_count": null,
   "metadata": {},
   "outputs": [],
   "source": [
    "s = input()\n",
    "numbers = s.split()\n",
    "first_number = numbers[0]\n",
    "second_number = numbers[1]\n",
    "print(second_number, end=' ')\n",
    "print(first_number)"
   ]
  },
  {
   "cell_type": "markdown",
   "metadata": {},
   "source": [
    "## Как? Как угодно!"
   ]
  },
  {
   "cell_type": "code",
   "execution_count": null,
   "metadata": {},
   "outputs": [],
   "source": [
    "phone_number = input()\n",
    "phone_number = phone_number.replace(\"-\", \"\").replace(\"(\", \"\").replace(\")\", \"\").replace(\" \", \"\")\n",
    "print(phone_number)"
   ]
  },
  {
   "cell_type": "markdown",
   "metadata": {},
   "source": [
    "## Щйхс Чёибса"
   ]
  },
  {
   "cell_type": "code",
   "execution_count": null,
   "metadata": {},
   "outputs": [],
   "source": [
    "def caesar_cipher(text):\n",
    "    result = \"\"\n",
    "    for char in text:\n",
    "        if char.isalpha():\n",
    "            ascii_offset = ord('a') if char.islower() else ord('A')\n",
    "            shifted_char = chr((ord(char) - ascii_offset + 1) % 26 + ascii_offset)\n",
    "            result += shifted_char\n",
    "        else:\n",
    "            result += char\n",
    "    return result\n",
    "\n",
    "\n",
    "text = input()\n",
    "encrypted_text = caesar_cipher(text)\n",
    "print(encrypted_text)"
   ]
  }
 ],
 "metadata": {
  "language_info": {
   "name": "python"
  }
 },
 "nbformat": 4,
 "nbformat_minor": 2
}
