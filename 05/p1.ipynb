{
 "cells": [
  {
   "cell_type": "markdown",
   "metadata": {},
   "source": [
    "## 1. Две команды"
   ]
  },
  {
   "cell_type": "code",
   "execution_count": null,
   "metadata": {},
   "outputs": [],
   "source": [
    "with open(\"weights.txt\", \"r\") as file:\n",
    "    content = file.readlines()\n",
    "\n",
    "players = []\n",
    "for line in content:\n",
    "    name, weight = line.split()\n",
    "    players.append((name, float(weight)))\n",
    "\n",
    "# Сортировка всех игроков по убыванию веса\n",
    "players.sort(key=lambda x: x[1], reverse=True)\n",
    "\n",
    "team1 = [players[i] for i in range(0, len(players), 2)] # Игроки на нечетных позициях\n",
    "team2 = [players[i] for i in range(1, len(players), 2)] # Игроки на четных позициях\n",
    "\n",
    "# Создание отсортированных списков команд\n",
    "team1.sort(key=lambda x: x[1], reverse=True)\n",
    "team2.sort(key=lambda x: x[1], reverse=True)\n",
    "\n",
    "# Вывод списков команд в файл\n",
    "with open(\"team.txt\", \"w\") as file:\n",
    "    for player in team1[:11]:\n",
    "        file.write(f\"{player[0]} {player[1]}\\n\")\n",
    "    for player in team2[:11]:\n",
    "        file.write(f\"{player[0]} {player[1]}\\n\")"
   ]
  },
  {
   "cell_type": "markdown",
   "metadata": {},
   "source": [
    "## 2. Неопубликованный шедевр"
   ]
  },
  {
   "cell_type": "code",
   "execution_count": null,
   "metadata": {},
   "outputs": [],
   "source": [
    "with open(\"poe_unpublished.txt\", \"r\") as file:\n",
    "    content = file.readlines()\n",
    "\n",
    "# Упорядочивание строк по возрастанию количества слов\n",
    "content.sort(key=lambda x: len(x.split()))\n",
    "\n",
    "# Упорядочивание слов в каждой строке по количеству букв\n",
    "for i in range(len(content)):\n",
    "    words = content[i].split()\n",
    "    words.sort(key=lambda x: len(x))\n",
    "    content[i] = \" \".join(words) + \"\\n\"\n",
    "\n",
    "# Запись расшифрованных строк в файл\n",
    "with open(\"poe_decode_attempt.txt\", \"w\") as file:\n",
    "    file.writelines(content)"
   ]
  },
  {
   "cell_type": "markdown",
   "metadata": {},
   "source": [
    "## 3. Транспонирование"
   ]
  },
  {
   "cell_type": "code",
   "execution_count": null,
   "metadata": {},
   "outputs": [],
   "source": [
    "matrix = []\n",
    "with open(\"med_research.txt\", \"r\") as file:\n",
    "    for line in file:\n",
    "        row = line.split()\n",
    "        matrix.append(row)\n",
    "\n",
    "transposed_matrix = []\n",
    "for j in range(len(matrix[0])):\n",
    "    transposed_row = []\n",
    "    for i in range(len(matrix)):\n",
    "        transposed_row.append(matrix[i][j])\n",
    "    transposed_matrix.append(transposed_row)\n",
    "\n",
    "with open(\"output.txt\", \"w\") as file:\n",
    "    for row in transposed_matrix:\n",
    "        file.write(\" \".join(row) + \"\\n\")"
   ]
  },
  {
   "cell_type": "markdown",
   "metadata": {},
   "source": [
    "## 4. Логирование звонков"
   ]
  },
  {
   "cell_type": "code",
   "execution_count": null,
   "metadata": {},
   "outputs": [],
   "source": [
    "# Чтение данных из файла и разделение на две группы\n",
    "calls_A = []\n",
    "calls_B = []\n",
    "with open(\"the_calls.txt\", \"r\") as file:\n",
    "    for line in file:\n",
    "        date, duration, letter, phone = line.split(\"\\t\")\n",
    "        if letter == \"A\":\n",
    "            calls_A.append(line)\n",
    "        elif letter == \"B\":\n",
    "            calls_B.append(line)\n",
    "\n",
    "# Сортировка строк в обратном порядке по длительности звонка\n",
    "calls_A.sort(key=lambda x: int(x.split(\"\\t\")[1]), reverse=True)\n",
    "calls_B.sort(key=lambda x: int(x.split(\"\\t\")[1]), reverse=True)\n",
    "\n",
    "# Запись данных в файл calls.txt\n",
    "with open(\"calls.txt\", \"w\") as file:\n",
    "    file.writelines(calls_A)\n",
    "    file.write(\"\\n\")\n",
    "    file.writelines(calls_B)"
   ]
  },
  {
   "cell_type": "code",
   "execution_count": null,
   "metadata": {},
   "outputs": [],
   "source": [
    "def split_line(x):\n",
    "    s = x.split()\n",
    "    return (s[2], -int(s[1]))\n",
    " \n",
    " \n",
    "with open('the_calls.txt', 'r') as f:\n",
    "    lines = f.read().splitlines()\n",
    "    a = sorted(lines, key=split_line)\n",
    " \n",
    "with open('calls.txt', 'w', encoding='utf-8') as f:\n",
    "    f.write('\\n'.join(a))"
   ]
  }
 ],
 "metadata": {
  "language_info": {
   "name": "python"
  }
 },
 "nbformat": 4,
 "nbformat_minor": 2
}
