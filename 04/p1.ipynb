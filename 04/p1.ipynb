{
 "cells": [
  {
   "cell_type": "markdown",
   "metadata": {},
   "source": [
    "## Перевод из двоичной системы счисления в десятичную"
   ]
  },
  {
   "cell_type": "code",
   "execution_count": null,
   "metadata": {},
   "outputs": [],
   "source": [
    "binary_number = input( )\n",
    "decimal_number = int(binary_number, 2)\n",
    "\n",
    "print(decimal_number)"
   ]
  },
  {
   "cell_type": "markdown",
   "metadata": {},
   "source": [
    "## Вычисление дроби"
   ]
  },
  {
   "cell_type": "markdown",
   "metadata": {},
   "source": [
    "from fractions import Fraction\n",
    "a_n, a_d = map(int, input().split())\n",
    "b_n, b_d = map(int, input().split())\n",
    "c_n, c_d = map(int, input().split())\n",
    "a = Fraction(a_n, a_d)\n",
    "b = Fraction(b_n, b_d)\n",
    "c = Fraction(c_n, c_d)\n",
    "res = (b/a) + (b/(a + c)) - (c/(c-a))\n",
    "res_float = float(res)\n",
    "res_rounded = round(res_float, 4)\n",
    "print(res_rounded)"
   ]
  },
  {
   "cell_type": "markdown",
   "metadata": {},
   "source": [
    "## Сумма последовательности чисел"
   ]
  },
  {
   "cell_type": "code",
   "execution_count": null,
   "metadata": {},
   "outputs": [],
   "source": [
    "x=int(input())\n",
    "sum=x\n",
    "count=0\n",
    "while x !=0:\n",
    "  x=int(input())\n",
    "  sum +=x\n",
    "  count +=1\n",
    "print(count, sum)"
   ]
  },
  {
   "cell_type": "markdown",
   "metadata": {},
   "source": [
    "## Элемент геометрической прогрессии"
   ]
  },
  {
   "cell_type": "code",
   "execution_count": null,
   "metadata": {},
   "outputs": [],
   "source": [
    "b1, q, a = map(float, input().split())\n",
    "bn=b1\n",
    "n=1\n",
    "while bn < a:\n",
    "  bn *= q\n",
    "  n +=1\n",
    "print(n)"
   ]
  },
  {
   "cell_type": "markdown",
   "metadata": {},
   "source": [
    "## Банковский вклад*"
   ]
  },
  {
   "cell_type": "code",
   "execution_count": null,
   "metadata": {},
   "outputs": [],
   "source": [
    "principal, years, interest_rate = map(float, input().split())\n",
    "monthly_interest_rate = interest_rate / 100 / 12\n",
    "\n",
    "total = principal * (1 + monthly_interest_rate) ** (years * 12)\n",
    "m=1\n",
    "z=principal\n",
    "with open('output.csv', 'w') as file:\n",
    "  file.write(\"Месяц,Сумма на вкладе,Начисление\\n\")\n",
    "  while m <= years*12:\n",
    "    total = principal * (1 + monthly_interest_rate) ** m\n",
    "    money=total-z\n",
    "    m_s=str(m)\n",
    "    file.write(m_s + ',')\n",
    "    file.write(\"{:.2f},\".format(total))\n",
    "    file.write(\"{:.2f}\\n\".format(money))\n",
    "    z=total\n",
    "    m +=1\n",
    "file.close()"
   ]
  }
 ],
 "metadata": {
  "language_info": {
   "name": "python"
  }
 },
 "nbformat": 4,
 "nbformat_minor": 2
}
