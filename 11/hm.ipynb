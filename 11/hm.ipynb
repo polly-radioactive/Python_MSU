{
  "nbformat": 4,
  "nbformat_minor": 0,
  "metadata": {
    "colab": {
      "provenance": []
    },
    "kernelspec": {
      "name": "python3",
      "display_name": "Python 3"
    },
    "language_info": {
      "name": "python"
    }
  },
  "cells": [
    {
      "cell_type": "markdown",
      "source": [
        "## 1. Инкапсулятор"
      ],
      "metadata": {
        "id": "-D4cZ9XXSbCX"
      }
    },
    {
      "cell_type": "code",
      "execution_count": 1,
      "metadata": {
        "id": "yAxT-hyeSVVU"
      },
      "outputs": [],
      "source": [
        "class Incapsulator:\n",
        "    def __init__(self, value=0):\n",
        "        self.value = value\n",
        "\n",
        "    def set_value(self, new_value):\n",
        "        self.value = new_value\n",
        "\n",
        "    def get_value(self):\n",
        "        return self.value\n"
      ]
    },
    {
      "cell_type": "code",
      "source": [
        "a = Incapsulator()\n",
        "print(a.get_value())\n",
        "a.set_value(5.0)\n",
        "print(a.get_value())\n",
        "a.set_value(-1.0)\n",
        "print(a.get_value())\n"
      ],
      "metadata": {
        "colab": {
          "base_uri": "https://localhost:8080/"
        },
        "id": "b_sprM-eShh2",
        "outputId": "2e4beb2c-9d4a-4f92-cab8-d5a1421c7d37"
      },
      "execution_count": 2,
      "outputs": [
        {
          "output_type": "stream",
          "name": "stdout",
          "text": [
            "0\n",
            "5.0\n",
            "-1.0\n"
          ]
        }
      ]
    },
    {
      "cell_type": "markdown",
      "source": [
        "## 2. Класс Student"
      ],
      "metadata": {
        "id": "ongJ4fwES16b"
      }
    },
    {
      "cell_type": "code",
      "source": [
        "class Student:\n",
        "    def __init__(self, name, age):\n",
        "        self.name = name\n",
        "        self.age = float(age)\n",
        "\n",
        "    def __repr__(self):\n",
        "        return f\"Student({self.name}, {self.age})\"\n",
        "\n",
        "    def __str__(self):\n",
        "        return f\"Student {self.name} of age {self.age}\"\n"
      ],
      "metadata": {
        "id": "TqE3Ufm9S1Qp"
      },
      "execution_count": 3,
      "outputs": []
    },
    {
      "cell_type": "code",
      "source": [
        "a = Student(\"Ivan\", 18)\n",
        "print(a)\n",
        "print(repr(a))"
      ],
      "metadata": {
        "colab": {
          "base_uri": "https://localhost:8080/"
        },
        "id": "HfOuwNd1S_Ud",
        "outputId": "752b9908-8330-46f1-99fc-472c7f847a63"
      },
      "execution_count": 4,
      "outputs": [
        {
          "output_type": "stream",
          "name": "stdout",
          "text": [
            "Student Ivan of age 18.0\n",
            "Student(Ivan, 18.0)\n"
          ]
        }
      ]
    },
    {
      "cell_type": "markdown",
      "source": [
        "## 3. Счётчик"
      ],
      "metadata": {
        "id": "XY3gip5_TWMY"
      }
    },
    {
      "cell_type": "code",
      "source": [
        "class SpyingNumber:\n",
        "    # классовый атрибут для подсчета операций\n",
        "    global_counter = 0\n",
        "\n",
        "    def __init__(self, num):\n",
        "        self.num = num\n",
        "\n",
        "    def __str__(self):\n",
        "        return str(self.num)\n",
        "\n",
        "    def __add__(self, other):\n",
        "        SpyingNumber.global_counter += 1\n",
        "        if isinstance(other, SpyingNumber):\n",
        "            return SpyingNumber(self.num + other.num)\n",
        "        else:\n",
        "            return SpyingNumber(self.num + other)\n",
        "\n",
        "    def __sub__(self, other):\n",
        "        SpyingNumber.global_counter += 1\n",
        "        if isinstance(other, SpyingNumber):\n",
        "            return SpyingNumber(self.num - other.num)\n",
        "        else:\n",
        "            return SpyingNumber(self.num - other)\n",
        "\n",
        "    def __mul__(self, other):\n",
        "        SpyingNumber.global_counter += 1\n",
        "        if isinstance(other, SpyingNumber):\n",
        "            return SpyingNumber(self.num * other.num)\n",
        "        else:\n",
        "            return SpyingNumber(self.num * other)\n",
        "\n",
        "    def __truediv__(self, other):\n",
        "        SpyingNumber.global_counter += 1\n",
        "        if isinstance(other, SpyingNumber):\n",
        "            return SpyingNumber(self.num / other.num)\n",
        "        else:\n",
        "            return SpyingNumber(self.num / other)\n",
        "\n",
        "    def __repr__(self):\n",
        "        return f\"SpyingNumber({self.num})\"\n",
        "\n",
        "    @staticmethod\n",
        "    def get_global_counter():\n",
        "        return SpyingNumber.global_counter\n",
        "\n",
        "    @staticmethod\n",
        "    def reset_global_counter():\n",
        "        SpyingNumber.global_counter = 0"
      ],
      "metadata": {
        "id": "DviW-2J_TXMY"
      },
      "execution_count": 34,
      "outputs": []
    },
    {
      "cell_type": "code",
      "source": [
        "# проверка кода\n",
        "SpyingNumber.reset_global_counter()\n",
        "SpyingNumber.get_global_counter()  # 0"
      ],
      "metadata": {
        "colab": {
          "base_uri": "https://localhost:8080/"
        },
        "id": "eltTMBIGTicc",
        "outputId": "91e141ad-9fd4-459a-d7e5-8ee629f6cd91"
      },
      "execution_count": 35,
      "outputs": [
        {
          "output_type": "execute_result",
          "data": {
            "text/plain": [
              "0"
            ]
          },
          "metadata": {},
          "execution_count": 35
        }
      ]
    },
    {
      "cell_type": "code",
      "source": [
        "x = SpyingNumber(10)\n",
        "print(x)  # 10"
      ],
      "metadata": {
        "colab": {
          "base_uri": "https://localhost:8080/"
        },
        "id": "Fhk_FFQOX7oa",
        "outputId": "6ec29796-c58c-4477-ce70-9436a0721a97"
      },
      "execution_count": 36,
      "outputs": [
        {
          "output_type": "stream",
          "name": "stdout",
          "text": [
            "10\n"
          ]
        }
      ]
    },
    {
      "cell_type": "code",
      "source": [
        "x = x + 10\n",
        "x # SpyingNumber(20)"
      ],
      "metadata": {
        "colab": {
          "base_uri": "https://localhost:8080/"
        },
        "id": "rjBLviftYQG9",
        "outputId": "4734a613-747d-486c-fad4-0998aa4077a6"
      },
      "execution_count": 37,
      "outputs": [
        {
          "output_type": "execute_result",
          "data": {
            "text/plain": [
              "SpyingNumber(20)"
            ]
          },
          "metadata": {},
          "execution_count": 37
        }
      ]
    },
    {
      "cell_type": "code",
      "source": [
        "x.get_global_counter()  # 1"
      ],
      "metadata": {
        "colab": {
          "base_uri": "https://localhost:8080/"
        },
        "id": "bc9lQjeRYiAn",
        "outputId": "304a0887-7ccc-4bbc-dd18-7e82fe726c52"
      },
      "execution_count": 38,
      "outputs": [
        {
          "output_type": "execute_result",
          "data": {
            "text/plain": [
              "1"
            ]
          },
          "metadata": {},
          "execution_count": 38
        }
      ]
    },
    {
      "cell_type": "code",
      "source": [
        "y = x * SpyingNumber(2.5)\n",
        "y  # SpyingNumber(50.0)"
      ],
      "metadata": {
        "colab": {
          "base_uri": "https://localhost:8080/"
        },
        "id": "RUXEOQbOZXJU",
        "outputId": "d5802cd7-ec73-4ec3-eff2-8780a2aab8ff"
      },
      "execution_count": 39,
      "outputs": [
        {
          "output_type": "execute_result",
          "data": {
            "text/plain": [
              "SpyingNumber(50.0)"
            ]
          },
          "metadata": {},
          "execution_count": 39
        }
      ]
    },
    {
      "cell_type": "code",
      "source": [
        "x = x / 2\n",
        "y.get_global_counter()  # 3"
      ],
      "metadata": {
        "colab": {
          "base_uri": "https://localhost:8080/"
        },
        "id": "0kcOXBVxZa-F",
        "outputId": "bf1b1096-7d30-45c2-d0b5-4524cd990070"
      },
      "execution_count": 40,
      "outputs": [
        {
          "output_type": "execute_result",
          "data": {
            "text/plain": [
              "3"
            ]
          },
          "metadata": {},
          "execution_count": 40
        }
      ]
    },
    {
      "cell_type": "code",
      "source": [
        "y - 50  # SpyingNumber(0.0)"
      ],
      "metadata": {
        "colab": {
          "base_uri": "https://localhost:8080/"
        },
        "id": "AORWbNwfZhXQ",
        "outputId": "32df6aef-ef9f-4e35-af89-258fef6cd14b"
      },
      "execution_count": 41,
      "outputs": [
        {
          "output_type": "execute_result",
          "data": {
            "text/plain": [
              "SpyingNumber(0.0)"
            ]
          },
          "metadata": {},
          "execution_count": 41
        }
      ]
    },
    {
      "cell_type": "code",
      "source": [
        "SpyingNumber.get_global_counter()  # 4"
      ],
      "metadata": {
        "colab": {
          "base_uri": "https://localhost:8080/"
        },
        "id": "AJuHzzmzZoze",
        "outputId": "f95b39a5-6e6b-4fba-82b4-246bab77a601"
      },
      "execution_count": 42,
      "outputs": [
        {
          "output_type": "execute_result",
          "data": {
            "text/plain": [
              "4"
            ]
          },
          "metadata": {},
          "execution_count": 42
        }
      ]
    },
    {
      "cell_type": "markdown",
      "source": [
        "## 4. Объект прогрессии"
      ],
      "metadata": {
        "id": "oK0azoCva3P0"
      }
    },
    {
      "cell_type": "code",
      "source": [
        "class GeomRangeIterator:\n",
        "    def __init__(self, start, stop, ratio):\n",
        "        self.start = start\n",
        "        self.stop = stop\n",
        "        self.ratio = ratio\n",
        "        self.current = start\n",
        "\n",
        "    def __iter__(self):\n",
        "        return self\n",
        "\n",
        "    def __next__(self):\n",
        "        if self.current >= self.stop:\n",
        "            raise StopIteration\n",
        "        result = self.current\n",
        "        self.current *= self.ratio\n",
        "        return result\n",
        "\n",
        "class GeomRange:\n",
        "    def __init__(self, start, stop=None, ratio=2):\n",
        "        if stop is None:\n",
        "            self.start = 1\n",
        "            self.stop = start\n",
        "            self.ratio = ratio\n",
        "        else:\n",
        "            self.start = start\n",
        "            self.stop = stop\n",
        "            self.ratio = ratio\n",
        "\n",
        "    def __iter__(self):\n",
        "        return GeomRangeIterator(self.start, self.stop, self.ratio)\n",
        "\n",
        "    def __getitem__(self, index):\n",
        "        if index < 0:\n",
        "            raise IndexError(\"index must be non-negative\")\n",
        "        elif self.start * (self.ratio ** index) > self.stop:\n",
        "            raise IndexError(\"index is out of the progression\")\n",
        "        return self.start * (self.ratio ** index)\n"
      ],
      "metadata": {
        "id": "s2ADhnFfa2tJ"
      },
      "execution_count": 67,
      "outputs": []
    },
    {
      "cell_type": "code",
      "source": [
        "for x in GeomRange(1, 10, 2):\n",
        "        print(x)"
      ],
      "metadata": {
        "colab": {
          "base_uri": "https://localhost:8080/"
        },
        "id": "ofI43sNsbI0R",
        "outputId": "a4b32c89-3061-41a5-b3ee-9907a819077f"
      },
      "execution_count": 69,
      "outputs": [
        {
          "output_type": "stream",
          "name": "stdout",
          "text": [
            "1\n",
            "2\n",
            "4\n",
            "8\n"
          ]
        }
      ]
    },
    {
      "cell_type": "code",
      "source": [
        "for x in GeomRange(1, 1, 2):\n",
        "    print(x)"
      ],
      "metadata": {
        "id": "FZPCnI11bKHZ"
      },
      "execution_count": 68,
      "outputs": []
    },
    {
      "cell_type": "code",
      "source": [
        "for x in GeomRange(1, 100, 3):\n",
        "    print(x)"
      ],
      "metadata": {
        "colab": {
          "base_uri": "https://localhost:8080/"
        },
        "id": "CQsROIJGbTNJ",
        "outputId": "bcdd1aad-e741-44ea-a61f-de1098c388de"
      },
      "execution_count": 47,
      "outputs": [
        {
          "output_type": "stream",
          "name": "stdout",
          "text": [
            "1\n",
            "3\n",
            "9\n",
            "27\n",
            "81\n"
          ]
        }
      ]
    },
    {
      "cell_type": "code",
      "source": [
        "g = GeomRange(1, 100, 3)\n",
        "next(g)"
      ],
      "metadata": {
        "colab": {
          "base_uri": "https://localhost:8080/",
          "height": 192
        },
        "id": "r5u6d48wbZz3",
        "outputId": "36049a75-7fba-4121-b615-8141db7b7ec1"
      },
      "execution_count": 48,
      "outputs": [
        {
          "output_type": "error",
          "ename": "TypeError",
          "evalue": "ignored",
          "traceback": [
            "\u001b[0;31m---------------------------------------------------------------------------\u001b[0m",
            "\u001b[0;31mTypeError\u001b[0m                                 Traceback (most recent call last)",
            "\u001b[0;32m<ipython-input-48-b6a1167dd1e5>\u001b[0m in \u001b[0;36m<cell line: 2>\u001b[0;34m()\u001b[0m\n\u001b[1;32m      1\u001b[0m \u001b[0mg\u001b[0m \u001b[0;34m=\u001b[0m \u001b[0mGeomRange\u001b[0m\u001b[0;34m(\u001b[0m\u001b[0;36m1\u001b[0m\u001b[0;34m,\u001b[0m \u001b[0;36m100\u001b[0m\u001b[0;34m,\u001b[0m \u001b[0;36m3\u001b[0m\u001b[0;34m)\u001b[0m\u001b[0;34m\u001b[0m\u001b[0;34m\u001b[0m\u001b[0m\n\u001b[0;32m----> 2\u001b[0;31m \u001b[0mnext\u001b[0m\u001b[0;34m(\u001b[0m\u001b[0mg\u001b[0m\u001b[0;34m)\u001b[0m\u001b[0;34m\u001b[0m\u001b[0;34m\u001b[0m\u001b[0m\n\u001b[0m",
            "\u001b[0;31mTypeError\u001b[0m: 'GeomRange' object is not an iterator"
          ]
        }
      ]
    },
    {
      "cell_type": "code",
      "source": [
        "it = iter(g)\n",
        "next(it)"
      ],
      "metadata": {
        "colab": {
          "base_uri": "https://localhost:8080/"
        },
        "id": "VxhxVKEEbeok",
        "outputId": "fcab6c49-ed72-4fe0-af67-0c27208c2827"
      },
      "execution_count": 49,
      "outputs": [
        {
          "output_type": "execute_result",
          "data": {
            "text/plain": [
              "1"
            ]
          },
          "metadata": {},
          "execution_count": 49
        }
      ]
    },
    {
      "cell_type": "code",
      "source": [
        "next(it)"
      ],
      "metadata": {
        "colab": {
          "base_uri": "https://localhost:8080/"
        },
        "id": "TnfqBTCHbiPh",
        "outputId": "8f4c4012-9841-487e-83db-326778597d6c"
      },
      "execution_count": 50,
      "outputs": [
        {
          "output_type": "execute_result",
          "data": {
            "text/plain": [
              "3"
            ]
          },
          "metadata": {},
          "execution_count": 50
        }
      ]
    },
    {
      "cell_type": "code",
      "source": [
        "next(it)"
      ],
      "metadata": {
        "colab": {
          "base_uri": "https://localhost:8080/"
        },
        "id": "DWe12tL_bk-r",
        "outputId": "dedcdff1-78aa-46c6-8609-44f470622eeb"
      },
      "execution_count": 51,
      "outputs": [
        {
          "output_type": "execute_result",
          "data": {
            "text/plain": [
              "9"
            ]
          },
          "metadata": {},
          "execution_count": 51
        }
      ]
    },
    {
      "cell_type": "code",
      "source": [
        "next(it)"
      ],
      "metadata": {
        "colab": {
          "base_uri": "https://localhost:8080/"
        },
        "id": "fFLkcFo7bngd",
        "outputId": "cd1b11d9-d4c0-46bc-ec4c-7c4037d985ef"
      },
      "execution_count": 52,
      "outputs": [
        {
          "output_type": "execute_result",
          "data": {
            "text/plain": [
              "27"
            ]
          },
          "metadata": {},
          "execution_count": 52
        }
      ]
    },
    {
      "cell_type": "code",
      "source": [
        "next(it)"
      ],
      "metadata": {
        "colab": {
          "base_uri": "https://localhost:8080/"
        },
        "id": "2GlxoCNPbpVv",
        "outputId": "f5d0757a-8a07-43e7-ed6d-a18c9be410d1"
      },
      "execution_count": 53,
      "outputs": [
        {
          "output_type": "execute_result",
          "data": {
            "text/plain": [
              "81"
            ]
          },
          "metadata": {},
          "execution_count": 53
        }
      ]
    },
    {
      "cell_type": "code",
      "source": [
        "next(it)"
      ],
      "metadata": {
        "colab": {
          "base_uri": "https://localhost:8080/",
          "height": 297
        },
        "id": "liCFCGFQbq0p",
        "outputId": "39e2d36c-5c41-40ca-d3ea-f9b297e518d4"
      },
      "execution_count": 54,
      "outputs": [
        {
          "output_type": "error",
          "ename": "StopIteration",
          "evalue": "ignored",
          "traceback": [
            "\u001b[0;31m---------------------------------------------------------------------------\u001b[0m",
            "\u001b[0;31mStopIteration\u001b[0m                             Traceback (most recent call last)",
            "\u001b[0;32m<ipython-input-54-bc1ab118995a>\u001b[0m in \u001b[0;36m<cell line: 1>\u001b[0;34m()\u001b[0m\n\u001b[0;32m----> 1\u001b[0;31m \u001b[0mnext\u001b[0m\u001b[0;34m(\u001b[0m\u001b[0mit\u001b[0m\u001b[0;34m)\u001b[0m\u001b[0;34m\u001b[0m\u001b[0;34m\u001b[0m\u001b[0m\n\u001b[0m",
            "\u001b[0;32m<ipython-input-43-583f531e374d>\u001b[0m in \u001b[0;36m__next__\u001b[0;34m(self)\u001b[0m\n\u001b[1;32m     11\u001b[0m     \u001b[0;32mdef\u001b[0m \u001b[0m__next__\u001b[0m\u001b[0;34m(\u001b[0m\u001b[0mself\u001b[0m\u001b[0;34m)\u001b[0m\u001b[0;34m:\u001b[0m\u001b[0;34m\u001b[0m\u001b[0;34m\u001b[0m\u001b[0m\n\u001b[1;32m     12\u001b[0m         \u001b[0;32mif\u001b[0m \u001b[0mself\u001b[0m\u001b[0;34m.\u001b[0m\u001b[0mcurrent\u001b[0m \u001b[0;34m>\u001b[0m \u001b[0mself\u001b[0m\u001b[0;34m.\u001b[0m\u001b[0mstop\u001b[0m\u001b[0;34m:\u001b[0m\u001b[0;34m\u001b[0m\u001b[0;34m\u001b[0m\u001b[0m\n\u001b[0;32m---> 13\u001b[0;31m             \u001b[0;32mraise\u001b[0m \u001b[0mStopIteration\u001b[0m\u001b[0;34m\u001b[0m\u001b[0;34m\u001b[0m\u001b[0m\n\u001b[0m\u001b[1;32m     14\u001b[0m         \u001b[0mresult\u001b[0m \u001b[0;34m=\u001b[0m \u001b[0mself\u001b[0m\u001b[0;34m.\u001b[0m\u001b[0mcurrent\u001b[0m\u001b[0;34m\u001b[0m\u001b[0;34m\u001b[0m\u001b[0m\n\u001b[1;32m     15\u001b[0m         \u001b[0mself\u001b[0m\u001b[0;34m.\u001b[0m\u001b[0mcurrent\u001b[0m \u001b[0;34m*=\u001b[0m \u001b[0mself\u001b[0m\u001b[0;34m.\u001b[0m\u001b[0mratio\u001b[0m\u001b[0;34m\u001b[0m\u001b[0;34m\u001b[0m\u001b[0m\n",
            "\u001b[0;31mStopIteration\u001b[0m: "
          ]
        }
      ]
    },
    {
      "cell_type": "code",
      "source": [
        "g = GeomRange(1, 100, 3)\n",
        "g[0]"
      ],
      "metadata": {
        "colab": {
          "base_uri": "https://localhost:8080/"
        },
        "id": "XWh4Jt-MbvWF",
        "outputId": "73466bc8-2930-40b3-99b1-ca3206ea0975"
      },
      "execution_count": 56,
      "outputs": [
        {
          "output_type": "execute_result",
          "data": {
            "text/plain": [
              "1"
            ]
          },
          "metadata": {},
          "execution_count": 56
        }
      ]
    },
    {
      "cell_type": "code",
      "source": [
        "g[1]"
      ],
      "metadata": {
        "colab": {
          "base_uri": "https://localhost:8080/"
        },
        "id": "6jornbOoby_v",
        "outputId": "3fda22f4-e693-4ea7-b577-71b9c2dc81b3"
      },
      "execution_count": 57,
      "outputs": [
        {
          "output_type": "execute_result",
          "data": {
            "text/plain": [
              "3"
            ]
          },
          "metadata": {},
          "execution_count": 57
        }
      ]
    },
    {
      "cell_type": "code",
      "source": [
        "g[2]"
      ],
      "metadata": {
        "colab": {
          "base_uri": "https://localhost:8080/"
        },
        "id": "il-setNMb1iM",
        "outputId": "6916eaad-b7dc-4dd8-aca8-5faf32214d37"
      },
      "execution_count": 59,
      "outputs": [
        {
          "output_type": "execute_result",
          "data": {
            "text/plain": [
              "9"
            ]
          },
          "metadata": {},
          "execution_count": 59
        }
      ]
    },
    {
      "cell_type": "code",
      "source": [
        "g[3]"
      ],
      "metadata": {
        "colab": {
          "base_uri": "https://localhost:8080/"
        },
        "id": "Xw-TrEIXb6a3",
        "outputId": "87754d20-9cb6-4c1f-8155-0104086b31ec"
      },
      "execution_count": 60,
      "outputs": [
        {
          "output_type": "execute_result",
          "data": {
            "text/plain": [
              "27"
            ]
          },
          "metadata": {},
          "execution_count": 60
        }
      ]
    },
    {
      "cell_type": "code",
      "source": [
        "g[4]"
      ],
      "metadata": {
        "colab": {
          "base_uri": "https://localhost:8080/"
        },
        "id": "KKcKJv7eb8Dd",
        "outputId": "ef1dcaf0-97c9-40dc-bea5-a1356e1ca17a"
      },
      "execution_count": 61,
      "outputs": [
        {
          "output_type": "execute_result",
          "data": {
            "text/plain": [
              "81"
            ]
          },
          "metadata": {},
          "execution_count": 61
        }
      ]
    },
    {
      "cell_type": "code",
      "source": [
        "g[5]"
      ],
      "metadata": {
        "colab": {
          "base_uri": "https://localhost:8080/",
          "height": 279
        },
        "id": "2IGt8zD3b9yS",
        "outputId": "9723243a-cdbb-4829-d282-9c3d8f659f5d"
      },
      "execution_count": 62,
      "outputs": [
        {
          "output_type": "error",
          "ename": "IndexError",
          "evalue": "ignored",
          "traceback": [
            "\u001b[0;31m---------------------------------------------------------------------------\u001b[0m",
            "\u001b[0;31mIndexError\u001b[0m                                Traceback (most recent call last)",
            "\u001b[0;32m<ipython-input-62-c7a90841d0a2>\u001b[0m in \u001b[0;36m<cell line: 1>\u001b[0;34m()\u001b[0m\n\u001b[0;32m----> 1\u001b[0;31m \u001b[0mg\u001b[0m\u001b[0;34m[\u001b[0m\u001b[0;36m5\u001b[0m\u001b[0;34m]\u001b[0m\u001b[0;34m\u001b[0m\u001b[0;34m\u001b[0m\u001b[0m\n\u001b[0m",
            "\u001b[0;32m<ipython-input-43-583f531e374d>\u001b[0m in \u001b[0;36m__getitem__\u001b[0;34m(self, index)\u001b[0m\n\u001b[1;32m     34\u001b[0m             \u001b[0;32mraise\u001b[0m \u001b[0mIndexError\u001b[0m\u001b[0;34m(\u001b[0m\u001b[0;34m\"index must be non-negative\"\u001b[0m\u001b[0;34m)\u001b[0m\u001b[0;34m\u001b[0m\u001b[0;34m\u001b[0m\u001b[0m\n\u001b[1;32m     35\u001b[0m         \u001b[0;32melif\u001b[0m \u001b[0mself\u001b[0m\u001b[0;34m.\u001b[0m\u001b[0mstart\u001b[0m \u001b[0;34m*\u001b[0m \u001b[0;34m(\u001b[0m\u001b[0mself\u001b[0m\u001b[0;34m.\u001b[0m\u001b[0mratio\u001b[0m \u001b[0;34m**\u001b[0m \u001b[0mindex\u001b[0m\u001b[0;34m)\u001b[0m \u001b[0;34m>\u001b[0m \u001b[0mself\u001b[0m\u001b[0;34m.\u001b[0m\u001b[0mstop\u001b[0m\u001b[0;34m:\u001b[0m\u001b[0;34m\u001b[0m\u001b[0;34m\u001b[0m\u001b[0m\n\u001b[0;32m---> 36\u001b[0;31m             \u001b[0;32mraise\u001b[0m \u001b[0mIndexError\u001b[0m\u001b[0;34m(\u001b[0m\u001b[0;34m\"index is out of the progression\"\u001b[0m\u001b[0;34m)\u001b[0m\u001b[0;34m\u001b[0m\u001b[0;34m\u001b[0m\u001b[0m\n\u001b[0m\u001b[1;32m     37\u001b[0m         \u001b[0;32mreturn\u001b[0m \u001b[0mself\u001b[0m\u001b[0;34m.\u001b[0m\u001b[0mstart\u001b[0m \u001b[0;34m*\u001b[0m \u001b[0;34m(\u001b[0m\u001b[0mself\u001b[0m\u001b[0;34m.\u001b[0m\u001b[0mratio\u001b[0m \u001b[0;34m**\u001b[0m \u001b[0mindex\u001b[0m\u001b[0;34m)\u001b[0m\u001b[0;34m\u001b[0m\u001b[0;34m\u001b[0m\u001b[0m\n",
            "\u001b[0;31mIndexError\u001b[0m: index is out of the progression"
          ]
        }
      ]
    }
  ]
}